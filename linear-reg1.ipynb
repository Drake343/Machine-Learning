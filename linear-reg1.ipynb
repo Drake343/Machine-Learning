{
 "cells": [
  {
   "cell_type": "markdown",
   "id": "bb2fcae0",
   "metadata": {
    "papermill": {
     "duration": 0.013803,
     "end_time": "2022-03-13T12:29:29.018443",
     "exception": false,
     "start_time": "2022-03-13T12:29:29.004640",
     "status": "completed"
    },
    "tags": []
   },
   "source": []
  },
  {
   "cell_type": "markdown",
   "id": "26a40f1c",
   "metadata": {
    "papermill": {
     "duration": 0.011872,
     "end_time": "2022-03-13T12:29:29.043257",
     "exception": false,
     "start_time": "2022-03-13T12:29:29.031385",
     "status": "completed"
    },
    "tags": []
   },
   "source": []
  },
  {
   "cell_type": "code",
   "execution_count": 1,
   "id": "1985cc91",
   "metadata": {
    "execution": {
     "iopub.execute_input": "2022-03-13T12:29:29.074087Z",
     "iopub.status.busy": "2022-03-13T12:29:29.072339Z",
     "iopub.status.idle": "2022-03-13T12:29:30.217113Z",
     "shell.execute_reply": "2022-03-13T12:29:30.215978Z",
     "shell.execute_reply.started": "2022-03-13T12:02:31.055661Z"
    },
    "papermill": {
     "duration": 1.161954,
     "end_time": "2022-03-13T12:29:30.217280",
     "exception": false,
     "start_time": "2022-03-13T12:29:29.055326",
     "status": "completed"
    },
    "tags": []
   },
   "outputs": [],
   "source": [
    "import pandas as pd\n",
    "import numpy as np\n",
    "import matplotlib.pyplot as plt\n",
    "from sklearn import linear_model\n"
   ]
  },
  {
   "cell_type": "code",
   "execution_count": 2,
   "id": "c425a660",
   "metadata": {
    "execution": {
     "iopub.execute_input": "2022-03-13T12:29:30.245437Z",
     "iopub.status.busy": "2022-03-13T12:29:30.244801Z",
     "iopub.status.idle": "2022-03-13T12:29:30.274099Z",
     "shell.execute_reply": "2022-03-13T12:29:30.274653Z",
     "shell.execute_reply.started": "2022-03-13T12:02:35.165565Z"
    },
    "papermill": {
     "duration": 0.044984,
     "end_time": "2022-03-13T12:29:30.274846",
     "exception": false,
     "start_time": "2022-03-13T12:29:30.229862",
     "status": "completed"
    },
    "tags": []
   },
   "outputs": [
    {
     "data": {
      "text/html": [
       "<div>\n",
       "<style scoped>\n",
       "    .dataframe tbody tr th:only-of-type {\n",
       "        vertical-align: middle;\n",
       "    }\n",
       "\n",
       "    .dataframe tbody tr th {\n",
       "        vertical-align: top;\n",
       "    }\n",
       "\n",
       "    .dataframe thead th {\n",
       "        text-align: right;\n",
       "    }\n",
       "</style>\n",
       "<table border=\"1\" class=\"dataframe\">\n",
       "  <thead>\n",
       "    <tr style=\"text-align: right;\">\n",
       "      <th></th>\n",
       "      <th>area</th>\n",
       "      <th>price</th>\n",
       "    </tr>\n",
       "  </thead>\n",
       "  <tbody>\n",
       "    <tr>\n",
       "      <th>0</th>\n",
       "      <td>2600</td>\n",
       "      <td>550000</td>\n",
       "    </tr>\n",
       "    <tr>\n",
       "      <th>1</th>\n",
       "      <td>3000</td>\n",
       "      <td>565000</td>\n",
       "    </tr>\n",
       "    <tr>\n",
       "      <th>2</th>\n",
       "      <td>3200</td>\n",
       "      <td>610000</td>\n",
       "    </tr>\n",
       "    <tr>\n",
       "      <th>3</th>\n",
       "      <td>3600</td>\n",
       "      <td>680000</td>\n",
       "    </tr>\n",
       "    <tr>\n",
       "      <th>4</th>\n",
       "      <td>4000</td>\n",
       "      <td>725000</td>\n",
       "    </tr>\n",
       "  </tbody>\n",
       "</table>\n",
       "</div>"
      ],
      "text/plain": [
       "   area   price\n",
       "0  2600  550000\n",
       "1  3000  565000\n",
       "2  3200  610000\n",
       "3  3600  680000\n",
       "4  4000  725000"
      ]
     },
     "execution_count": 2,
     "metadata": {},
     "output_type": "execute_result"
    }
   ],
   "source": [
    "df=pd.read_csv(\"../input/mlhomeprices/homeprices.csv\")\n",
    "df"
   ]
  },
  {
   "cell_type": "code",
   "execution_count": 3,
   "id": "06adfbe9",
   "metadata": {
    "execution": {
     "iopub.execute_input": "2022-03-13T12:29:30.315570Z",
     "iopub.status.busy": "2022-03-13T12:29:30.314585Z",
     "iopub.status.idle": "2022-03-13T12:29:30.510834Z",
     "shell.execute_reply": "2022-03-13T12:29:30.511379Z",
     "shell.execute_reply.started": "2022-03-13T12:02:44.410975Z"
    },
    "papermill": {
     "duration": 0.223211,
     "end_time": "2022-03-13T12:29:30.511542",
     "exception": false,
     "start_time": "2022-03-13T12:29:30.288331",
     "status": "completed"
    },
    "tags": []
   },
   "outputs": [
    {
     "data": {
      "text/plain": [
       "<matplotlib.collections.PathCollection at 0x7f7e1e336fd0>"
      ]
     },
     "execution_count": 3,
     "metadata": {},
     "output_type": "execute_result"
    },
    {
     "data": {
      "image/png": "[encoded data removed]",
      "text/plain": [
       "<Figure size 432x288 with 1 Axes>"
      ]
     },
     "metadata": {
      "needs_background": "light"
     },
     "output_type": "display_data"
    }
   ],
   "source": [
    "%matplotlib inline\n",
    "plt.xlabel(\"area(sqr ft)\")\n",
    "plt.ylabel(\"price(US$)\")\n",
    "plt.scatter(df.area,df.price,color=\"red\",marker=\"+\")"
   ]
  },
  {
   "cell_type": "code",
   "execution_count": 4,
   "id": "2be8fdf2",
   "metadata": {
    "execution": {
     "iopub.execute_input": "2022-03-13T12:29:30.549353Z",
     "iopub.status.busy": "2022-03-13T12:29:30.548691Z",
     "iopub.status.idle": "2022-03-13T12:29:30.569646Z",
     "shell.execute_reply": "2022-03-13T12:29:30.568990Z",
     "shell.execute_reply.started": "2022-03-13T12:02:50.131768Z"
    },
    "papermill": {
     "duration": 0.043858,
     "end_time": "2022-03-13T12:29:30.569797",
     "exception": false,
     "start_time": "2022-03-13T12:29:30.525939",
     "status": "completed"
    },
    "tags": []
   },
   "outputs": [
    {
     "data": {
      "text/plain": [
       "LinearRegression()"
      ]
     },
     "execution_count": 4,
     "metadata": {},
     "output_type": "execute_result"
    }
   ],
   "source": [
    "reg = linear_model.LinearRegression()\n",
    "reg.fit(df[['area']], df.price)"
   ]
  },
  {
   "cell_type": "code",
   "execution_count": 5,
   "id": "93bdde64",
   "metadata": {
    "execution": {
     "iopub.execute_input": "2022-03-13T12:29:30.602458Z",
     "iopub.status.busy": "2022-03-13T12:29:30.601488Z",
     "iopub.status.idle": "2022-03-13T12:29:30.611405Z",
     "shell.execute_reply": "2022-03-13T12:29:30.611871Z",
     "shell.execute_reply.started": "2022-03-13T12:02:58.826127Z"
    },
    "papermill": {
     "duration": 0.027697,
     "end_time": "2022-03-13T12:29:30.612026",
     "exception": false,
     "start_time": "2022-03-13T12:29:30.584329",
     "status": "completed"
    },
    "tags": []
   },
   "outputs": [
    {
     "name": "stderr",
     "output_type": "stream",
     "text": [
      "/opt/conda/lib/python3.7/site-packages/sklearn/base.py:446: UserWarning: X does not have valid feature names, but LinearRegression was fitted with feature names\n",
      "  \"X does not have valid feature names, but\"\n"
     ]
    },
    {
     "data": {
      "text/plain": [
       "array([492928.08219178])"
      ]
     },
     "execution_count": 5,
     "metadata": {},
     "output_type": "execute_result"
    }
   ],
   "source": [
    "reg.predict([[2300]])"
   ]
  },
  {
   "cell_type": "code",
   "execution_count": 6,
   "id": "0a73121e",
   "metadata": {
    "execution": {
     "iopub.execute_input": "2022-03-13T12:29:30.645225Z",
     "iopub.status.busy": "2022-03-13T12:29:30.644628Z",
     "iopub.status.idle": "2022-03-13T12:29:30.829867Z",
     "shell.execute_reply": "2022-03-13T12:29:30.829292Z",
     "shell.execute_reply.started": "2022-03-13T12:20:33.797877Z"
    },
    "papermill": {
     "duration": 0.202846,
     "end_time": "2022-03-13T12:29:30.830007",
     "exception": false,
     "start_time": "2022-03-13T12:29:30.627161",
     "status": "completed"
    },
    "tags": []
   },
   "outputs": [
    {
     "data": {
      "text/plain": [
       "[<matplotlib.lines.Line2D at 0x7f7e1e21e310>]"
      ]
     },
     "execution_count": 6,
     "metadata": {},
     "output_type": "execute_result"
    },
    {
     "data": {
      "image/png": "[encoded data removed]",
      "text/plain": [
       "<Figure size 432x288 with 1 Axes>"
      ]
     },
     "metadata": {
      "needs_background": "light"
     },
     "output_type": "display_data"
    }
   ],
   "source": [
    "%matplotlib inline\n",
    "plt.xlabel(\"Area\", fontsize=15)\n",
    "plt.ylabel('Price', fontsize=15)\n",
    "plt.scatter(df.area,df.price, color='red',marker='*')\n",
    "plt.plot(df.area, reg.predict(df[[\"area\"]]))"
   ]
  },
  {
   "cell_type": "code",
   "execution_count": 7,
   "id": "e033cd2c",
   "metadata": {
    "execution": {
     "iopub.execute_input": "2022-03-13T12:29:30.866816Z",
     "iopub.status.busy": "2022-03-13T12:29:30.866191Z",
     "iopub.status.idle": "2022-03-13T12:29:30.877620Z",
     "shell.execute_reply": "2022-03-13T12:29:30.878106Z",
     "shell.execute_reply.started": "2022-03-13T12:13:11.391146Z"
    },
    "papermill": {
     "duration": 0.031299,
     "end_time": "2022-03-13T12:29:30.878276",
     "exception": false,
     "start_time": "2022-03-13T12:29:30.846977",
     "status": "completed"
    },
    "tags": []
   },
   "outputs": [
    {
     "data": {
      "text/html": [
       "<div>\n",
       "<style scoped>\n",
       "    .dataframe tbody tr th:only-of-type {\n",
       "        vertical-align: middle;\n",
       "    }\n",
       "\n",
       "    .dataframe tbody tr th {\n",
       "        vertical-align: top;\n",
       "    }\n",
       "\n",
       "    .dataframe thead th {\n",
       "        text-align: right;\n",
       "    }\n",
       "</style>\n",
       "<table border=\"1\" class=\"dataframe\">\n",
       "  <thead>\n",
       "    <tr style=\"text-align: right;\">\n",
       "      <th></th>\n",
       "      <th>area</th>\n",
       "    </tr>\n",
       "  </thead>\n",
       "  <tbody>\n",
       "    <tr>\n",
       "      <th>0</th>\n",
       "      <td>1000</td>\n",
       "    </tr>\n",
       "    <tr>\n",
       "      <th>1</th>\n",
       "      <td>1500</td>\n",
       "    </tr>\n",
       "    <tr>\n",
       "      <th>2</th>\n",
       "      <td>2300</td>\n",
       "    </tr>\n",
       "  </tbody>\n",
       "</table>\n",
       "</div>"
      ],
      "text/plain": [
       "   area\n",
       "0  1000\n",
       "1  1500\n",
       "2  2300"
      ]
     },
     "execution_count": 7,
     "metadata": {},
     "output_type": "execute_result"
    }
   ],
   "source": [
    "d = pd.read_csv(\"../input/codebasics/areas.csv\")\n",
    "d.head(3)"
   ]
  },
  {
   "cell_type": "code",
   "execution_count": 8,
   "id": "473f0d9b",
   "metadata": {
    "execution": {
     "iopub.execute_input": "2022-03-13T12:29:30.915476Z",
     "iopub.status.busy": "2022-03-13T12:29:30.914829Z",
     "iopub.status.idle": "2022-03-13T12:29:30.920239Z",
     "shell.execute_reply": "2022-03-13T12:29:30.920675Z",
     "shell.execute_reply.started": "2022-03-13T12:15:51.086104Z"
    },
    "papermill": {
     "duration": 0.025629,
     "end_time": "2022-03-13T12:29:30.920836",
     "exception": false,
     "start_time": "2022-03-13T12:29:30.895207",
     "status": "completed"
    },
    "tags": []
   },
   "outputs": [],
   "source": [
    "p = reg.predict(d)\n",
    "d['prices'] = p"
   ]
  },
  {
   "cell_type": "code",
   "execution_count": 9,
   "id": "f2b4cac6",
   "metadata": {
    "execution": {
     "iopub.execute_input": "2022-03-13T12:29:30.958188Z",
     "iopub.status.busy": "2022-03-13T12:29:30.957518Z",
     "iopub.status.idle": "2022-03-13T12:29:30.967082Z",
     "shell.execute_reply": "2022-03-13T12:29:30.967626Z",
     "shell.execute_reply.started": "2022-03-13T12:15:59.800326Z"
    },
    "papermill": {
     "duration": 0.029881,
     "end_time": "2022-03-13T12:29:30.967792",
     "exception": false,
     "start_time": "2022-03-13T12:29:30.937911",
     "status": "completed"
    },
    "tags": []
   },
   "outputs": [
    {
     "data": {
      "text/html": [
       "<div>\n",
       "<style scoped>\n",
       "    .dataframe tbody tr th:only-of-type {\n",
       "        vertical-align: middle;\n",
       "    }\n",
       "\n",
       "    .dataframe tbody tr th {\n",
       "        vertical-align: top;\n",
       "    }\n",
       "\n",
       "    .dataframe thead th {\n",
       "        text-align: right;\n",
       "    }\n",
       "</style>\n",
       "<table border=\"1\" class=\"dataframe\">\n",
       "  <thead>\n",
       "    <tr style=\"text-align: right;\">\n",
       "      <th></th>\n",
       "      <th>area</th>\n",
       "      <th>prices</th>\n",
       "    </tr>\n",
       "  </thead>\n",
       "  <tbody>\n",
       "    <tr>\n",
       "      <th>0</th>\n",
       "      <td>1000</td>\n",
       "      <td>3.164041e+05</td>\n",
       "    </tr>\n",
       "    <tr>\n",
       "      <th>1</th>\n",
       "      <td>1500</td>\n",
       "      <td>3.842979e+05</td>\n",
       "    </tr>\n",
       "    <tr>\n",
       "      <th>2</th>\n",
       "      <td>2300</td>\n",
       "      <td>4.929281e+05</td>\n",
       "    </tr>\n",
       "    <tr>\n",
       "      <th>3</th>\n",
       "      <td>3540</td>\n",
       "      <td>6.613048e+05</td>\n",
       "    </tr>\n",
       "    <tr>\n",
       "      <th>4</th>\n",
       "      <td>4120</td>\n",
       "      <td>7.400616e+05</td>\n",
       "    </tr>\n",
       "    <tr>\n",
       "      <th>5</th>\n",
       "      <td>4560</td>\n",
       "      <td>7.998082e+05</td>\n",
       "    </tr>\n",
       "    <tr>\n",
       "      <th>6</th>\n",
       "      <td>5490</td>\n",
       "      <td>9.260908e+05</td>\n",
       "    </tr>\n",
       "    <tr>\n",
       "      <th>7</th>\n",
       "      <td>3460</td>\n",
       "      <td>6.504418e+05</td>\n",
       "    </tr>\n",
       "    <tr>\n",
       "      <th>8</th>\n",
       "      <td>4750</td>\n",
       "      <td>8.256079e+05</td>\n",
       "    </tr>\n",
       "    <tr>\n",
       "      <th>9</th>\n",
       "      <td>2300</td>\n",
       "      <td>4.929281e+05</td>\n",
       "    </tr>\n",
       "    <tr>\n",
       "      <th>10</th>\n",
       "      <td>9000</td>\n",
       "      <td>1.402705e+06</td>\n",
       "    </tr>\n",
       "    <tr>\n",
       "      <th>11</th>\n",
       "      <td>8600</td>\n",
       "      <td>1.348390e+06</td>\n",
       "    </tr>\n",
       "    <tr>\n",
       "      <th>12</th>\n",
       "      <td>7100</td>\n",
       "      <td>1.144709e+06</td>\n",
       "    </tr>\n",
       "  </tbody>\n",
       "</table>\n",
       "</div>"
      ],
      "text/plain": [
       "    area        prices\n",
       "0   1000  3.164041e+05\n",
       "1   1500  3.842979e+05\n",
       "2   2300  4.929281e+05\n",
       "3   3540  6.613048e+05\n",
       "4   4120  7.400616e+05\n",
       "5   4560  7.998082e+05\n",
       "6   5490  9.260908e+05\n",
       "7   3460  6.504418e+05\n",
       "8   4750  8.256079e+05\n",
       "9   2300  4.929281e+05\n",
       "10  9000  1.402705e+06\n",
       "11  8600  1.348390e+06\n",
       "12  7100  1.144709e+06"
      ]
     },
     "execution_count": 9,
     "metadata": {},
     "output_type": "execute_result"
    }
   ],
   "source": [
    "d"
   ]
  },
  {
   "cell_type": "code",
   "execution_count": 10,
   "id": "91e86ac0",
   "metadata": {
    "execution": {
     "iopub.execute_input": "2022-03-13T12:29:31.011706Z",
     "iopub.status.busy": "2022-03-13T12:29:31.011009Z",
     "iopub.status.idle": "2022-03-13T12:29:31.016984Z",
     "shell.execute_reply": "2022-03-13T12:29:31.016450Z",
     "shell.execute_reply.started": "2022-03-13T12:17:32.00552Z"
    },
    "papermill": {
     "duration": 0.031448,
     "end_time": "2022-03-13T12:29:31.017170",
     "exception": false,
     "start_time": "2022-03-13T12:29:30.985722",
     "status": "completed"
    },
    "tags": []
   },
   "outputs": [],
   "source": [
    "d.to_csv(\"predicted.csv\")"
   ]
  }
 ],
 "metadata": {
  "kernelspec": {
   "display_name": "Python 3",
   "language": "python",
   "name": "python3"
  },
  "language_info": {
   "codemirror_mode": {
    "name": "ipython",
    "version": 3
   },
   "file_extension": ".py",
   "mimetype": "text/x-python",
   "name": "python",
   "nbconvert_exporter": "python",
   "pygments_lexer": "ipython3",
   "version": "3.7.12"
  },
  "papermill": {
   "default_parameters": {},
   "duration": 12.208953,
   "end_time": "2022-03-13T12:29:31.745838",
   "environment_variables": {},
   "exception": null,
   "input_path": "__notebook__.ipynb",
   "output_path": "__notebook__.ipynb",
   "parameters": {},
   "start_time": "2022-03-13T12:29:19.536885",
   "version": "2.3.3"
  }
 },
 "nbformat": 4,
 "nbformat_minor": 5
}
