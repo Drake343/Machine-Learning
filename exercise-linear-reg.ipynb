{
 "cells": [
  {
   "cell_type": "code",
   "execution_count": 1,
   "id": "d191f000",
   "metadata": {
    "execution": {
     "iopub.execute_input": "2022-03-14T06:28:02.027411Z",
     "iopub.status.busy": "2022-03-14T06:28:02.026377Z",
     "iopub.status.idle": "2022-03-14T06:28:03.326421Z",
     "shell.execute_reply": "2022-03-14T06:28:03.325673Z",
     "shell.execute_reply.started": "2022-03-14T06:17:24.694708Z"
    },
    "papermill": {
     "duration": 1.309169,
     "end_time": "2022-03-14T06:28:03.326610",
     "exception": false,
     "start_time": "2022-03-14T06:28:02.017441",
     "status": "completed"
    },
    "tags": []
   },
   "outputs": [],
   "source": [
    "import pandas as pd\n",
    "import numpy as np\n",
    "from matplotlib import pyplot as plt\n",
    "from sklearn import linear_model"
   ]
  },
  {
   "cell_type": "code",
   "execution_count": 2,
   "id": "cfc00b92",
   "metadata": {
    "execution": {
     "iopub.execute_input": "2022-03-14T06:28:03.343688Z",
     "iopub.status.busy": "2022-03-14T06:28:03.343117Z",
     "iopub.status.idle": "2022-03-14T06:28:03.370005Z",
     "shell.execute_reply": "2022-03-14T06:28:03.370445Z",
     "shell.execute_reply.started": "2022-03-14T06:19:59.687599Z"
    },
    "papermill": {
     "duration": 0.036717,
     "end_time": "2022-03-14T06:28:03.370656",
     "exception": false,
     "start_time": "2022-03-14T06:28:03.333939",
     "status": "completed"
    },
    "tags": []
   },
   "outputs": [
    {
     "data": {
      "text/html": [
       "<div>\n",
       "<style scoped>\n",
       "    .dataframe tbody tr th:only-of-type {\n",
       "        vertical-align: middle;\n",
       "    }\n",
       "\n",
       "    .dataframe tbody tr th {\n",
       "        vertical-align: top;\n",
       "    }\n",
       "\n",
       "    .dataframe thead th {\n",
       "        text-align: right;\n",
       "    }\n",
       "</style>\n",
       "<table border=\"1\" class=\"dataframe\">\n",
       "  <thead>\n",
       "    <tr style=\"text-align: right;\">\n",
       "      <th></th>\n",
       "      <th>year</th>\n",
       "      <th>per capita income (US$)</th>\n",
       "    </tr>\n",
       "  </thead>\n",
       "  <tbody>\n",
       "    <tr>\n",
       "      <th>0</th>\n",
       "      <td>1970</td>\n",
       "      <td>3399.299037</td>\n",
       "    </tr>\n",
       "    <tr>\n",
       "      <th>1</th>\n",
       "      <td>1971</td>\n",
       "      <td>3768.297935</td>\n",
       "    </tr>\n",
       "    <tr>\n",
       "      <th>2</th>\n",
       "      <td>1972</td>\n",
       "      <td>4251.175484</td>\n",
       "    </tr>\n",
       "    <tr>\n",
       "      <th>3</th>\n",
       "      <td>1973</td>\n",
       "      <td>4804.463248</td>\n",
       "    </tr>\n",
       "    <tr>\n",
       "      <th>4</th>\n",
       "      <td>1974</td>\n",
       "      <td>5576.514583</td>\n",
       "    </tr>\n",
       "  </tbody>\n",
       "</table>\n",
       "</div>"
      ],
      "text/plain": [
       "   year  per capita income (US$)\n",
       "0  1970              3399.299037\n",
       "1  1971              3768.297935\n",
       "2  1972              4251.175484\n",
       "3  1973              4804.463248\n",
       "4  1974              5576.514583"
      ]
     },
     "execution_count": 2,
     "metadata": {},
     "output_type": "execute_result"
    }
   ],
   "source": [
    "df=pd.read_csv(\"../input/code-basics-pr/canada_per_capita_income.csv\")\n",
    "df.head(5)"
   ]
  },
  {
   "cell_type": "code",
   "execution_count": 3,
   "id": "834998c4",
   "metadata": {
    "execution": {
     "iopub.execute_input": "2022-03-14T06:28:03.385139Z",
     "iopub.status.busy": "2022-03-14T06:28:03.384261Z",
     "iopub.status.idle": "2022-03-14T06:28:03.634481Z",
     "shell.execute_reply": "2022-03-14T06:28:03.634938Z",
     "shell.execute_reply.started": "2022-03-14T06:21:57.976554Z"
    },
    "papermill": {
     "duration": 0.258813,
     "end_time": "2022-03-14T06:28:03.635122",
     "exception": false,
     "start_time": "2022-03-14T06:28:03.376309",
     "status": "completed"
    },
    "tags": []
   },
   "outputs": [
    {
     "data": {
      "text/plain": [
       "<matplotlib.collections.PathCollection at 0x7f7f99dd0c10>"
      ]
     },
     "execution_count": 3,
     "metadata": {},
     "output_type": "execute_result"
    },
    {
     "data": {
      "image/png": "[encoded data removed]",
      "text/plain": [
       "<Figure size 432x288 with 1 Axes>"
      ]
     },
     "metadata": {
      "needs_background": "light"
     },
     "output_type": "display_data"
    }
   ],
   "source": [
    "%matplotlib inline\n",
    "plt.xlabel(\"Year\")\n",
    "plt.ylabel(\"per capita income (US$)\")\n",
    "plt.scatter(df.year,df['per capita income (US$)'])"
   ]
  },
  {
   "cell_type": "code",
   "execution_count": 4,
   "id": "64f2de86",
   "metadata": {
    "execution": {
     "iopub.execute_input": "2022-03-14T06:28:03.651838Z",
     "iopub.status.busy": "2022-03-14T06:28:03.651229Z",
     "iopub.status.idle": "2022-03-14T06:28:03.677697Z",
     "shell.execute_reply": "2022-03-14T06:28:03.678087Z",
     "shell.execute_reply.started": "2022-03-14T06:24:32.347386Z"
    },
    "papermill": {
     "duration": 0.036348,
     "end_time": "2022-03-14T06:28:03.678256",
     "exception": false,
     "start_time": "2022-03-14T06:28:03.641908",
     "status": "completed"
    },
    "tags": []
   },
   "outputs": [
    {
     "data": {
      "text/plain": [
       "LinearRegression()"
      ]
     },
     "execution_count": 4,
     "metadata": {},
     "output_type": "execute_result"
    }
   ],
   "source": [
    "reg=linear_model.LinearRegression()\n",
    "reg.fit(df[['year']],df[\"per capita income (US$)\"])"
   ]
  },
  {
   "cell_type": "code",
   "execution_count": 5,
   "id": "d2d0f96d",
   "metadata": {
    "execution": {
     "iopub.execute_input": "2022-03-14T06:28:03.694702Z",
     "iopub.status.busy": "2022-03-14T06:28:03.694087Z",
     "iopub.status.idle": "2022-03-14T06:28:03.703905Z",
     "shell.execute_reply": "2022-03-14T06:28:03.703399Z",
     "shell.execute_reply.started": "2022-03-14T06:25:12.146580Z"
    },
    "papermill": {
     "duration": 0.019038,
     "end_time": "2022-03-14T06:28:03.704035",
     "exception": false,
     "start_time": "2022-03-14T06:28:03.684997",
     "status": "completed"
    },
    "tags": []
   },
   "outputs": [
    {
     "name": "stderr",
     "output_type": "stream",
     "text": [
      "/opt/conda/lib/python3.7/site-packages/sklearn/base.py:446: UserWarning: X does not have valid feature names, but LinearRegression was fitted with feature names\n",
      "  \"X does not have valid feature names, but\"\n"
     ]
    },
    {
     "data": {
      "text/plain": [
       "array([43774.08932009])"
      ]
     },
     "execution_count": 5,
     "metadata": {},
     "output_type": "execute_result"
    }
   ],
   "source": [
    "reg.predict([[2023]])"
   ]
  }
 ],
 "metadata": {
  "kernelspec": {
   "display_name": "Python 3",
   "language": "python",
   "name": "python3"
  },
  "language_info": {
   "codemirror_mode": {
    "name": "ipython",
    "version": 3
   },
   "file_extension": ".py",
   "mimetype": "text/x-python",
   "name": "python",
   "nbconvert_exporter": "python",
   "pygments_lexer": "ipython3",
   "version": "3.7.12"
  },
  "papermill": {
   "default_parameters": {},
   "duration": 10.990792,
   "end_time": "2022-03-14T06:28:04.421560",
   "environment_variables": {},
   "exception": null,
   "input_path": "__notebook__.ipynb",
   "output_path": "__notebook__.ipynb",
   "parameters": {},
   "start_time": "2022-03-14T06:27:53.430768",
   "version": "2.3.3"
  }
 },
 "nbformat": 4,
 "nbformat_minor": 5
}
